{
 "cells": [
  {
   "cell_type": "code",
   "execution_count": 1,
   "id": "floppy-waterproof",
   "metadata": {
    "executionInfo": {
     "elapsed": 40,
     "status": "ok",
     "timestamp": 1645432101310,
     "user": {
      "displayName": "Андрій Сергійович Рубель",
      "photoUrl": "https://lh3.googleusercontent.com/a/default-user=s64",
      "userId": "11227528985300011755"
     },
     "user_tz": -120
    },
    "id": "floppy-waterproof"
   },
   "outputs": [],
   "source": [
    "import numpy as np\n",
    "import matplotlib.pyplot as plt\n",
    "from scipy.stats import kurtosis\n",
    "from scipy.stats import skew\n",
    "%matplotlib inline"
   ]
  },
  {
   "cell_type": "markdown",
   "id": "split-emperor",
   "metadata": {
    "id": "split-emperor"
   },
   "source": [
    "# Равномерное распределение"
   ]
  },
  {
   "cell_type": "code",
   "execution_count": 5,
   "id": "amazing-environment",
   "metadata": {
    "executionInfo": {
     "elapsed": 1064,
     "status": "ok",
     "timestamp": 1645432143563,
     "user": {
      "displayName": "Андрій Сергійович Рубель",
      "photoUrl": "https://lh3.googleusercontent.com/a/default-user=s64",
      "userId": "11227528985300011755"
     },
     "user_tz": -120
    },
    "id": "amazing-environment"
   },
   "outputs": [],
   "source": [
    "a, b = 0, 1\n",
    "x_uniform = np.random.uniform(a, b, 10000)"
   ]
  },
  {
   "cell_type": "code",
   "execution_count": 6,
   "id": "indirect-affiliate",
   "metadata": {
    "colab": {
     "base_uri": "https://localhost:8080/"
    },
    "executionInfo": {
     "elapsed": 614,
     "status": "ok",
     "timestamp": 1645432150066,
     "user": {
      "displayName": "Андрій Сергійович Рубель",
      "photoUrl": "https://lh3.googleusercontent.com/a/default-user=s64",
      "userId": "11227528985300011755"
     },
     "user_tz": -120
    },
    "id": "indirect-affiliate",
    "outputId": "a65aec71-7b34-4b78-b3d5-978fac6422ed"
   },
   "outputs": [
    {
     "name": "stdout",
     "output_type": "stream",
     "text": [
      "Среднее значение :  0.4971298900458967\n"
     ]
    }
   ],
   "source": [
    "print(\"Среднее значение : \", np.mean(x_uniform))"
   ]
  },
  {
   "cell_type": "code",
   "execution_count": null,
   "id": "prescribed-attachment",
   "metadata": {
    "id": "prescribed-attachment",
    "outputId": "92ac816d-b502-4132-cd90-9b133fd7443f"
   },
   "outputs": [
    {
     "name": "stdout",
     "output_type": "stream",
     "text": [
      "Дисперсия :  0.08527056959601371\n"
     ]
    }
   ],
   "source": [
    "print(\"Дисперсия : \", np.var(x_uniform))"
   ]
  },
  {
   "cell_type": "code",
   "execution_count": null,
   "id": "continuous-internship",
   "metadata": {
    "id": "continuous-internship",
    "outputId": "a3d2d50a-6142-462d-d14a-c8729dfd021e"
   },
   "outputs": [
    {
     "name": "stdout",
     "output_type": "stream",
     "text": [
      "Коэффициент асимметрии :  0.002897540100322546\n"
     ]
    }
   ],
   "source": [
    "print(\"Коэффициент асимметрии : \", skew(x_uniform)) "
   ]
  },
  {
   "cell_type": "code",
   "execution_count": null,
   "id": "controlling-activity",
   "metadata": {
    "id": "controlling-activity",
    "outputId": "54fcee3f-7723-4f49-eb9d-6ae90b21e78f"
   },
   "outputs": [
    {
     "name": "stdout",
     "output_type": "stream",
     "text": [
      "Коэффициент эксцесса :  -1.2605365986097614\n"
     ]
    }
   ],
   "source": [
    "print(\"Коэффициент эксцесса : \", kurtosis(x_uniform)) "
   ]
  },
  {
   "cell_type": "code",
   "execution_count": 7,
   "id": "pregnant-register",
   "metadata": {
    "colab": {
     "base_uri": "https://localhost:8080/",
     "height": 375
    },
    "executionInfo": {
     "elapsed": 488,
     "status": "ok",
     "timestamp": 1645432186767,
     "user": {
      "displayName": "Андрій Сергійович Рубель",
      "photoUrl": "https://lh3.googleusercontent.com/a/default-user=s64",
      "userId": "11227528985300011755"
     },
     "user_tz": -120
    },
    "id": "pregnant-register",
    "outputId": "174d2a63-dbdd-4174-cc30-b9cf0626a154"
   },
   "outputs": [
    {
     "data": {
      "text/plain": [
       "(array([1009., 1031., 1015.,  999., 1004.,  969., 1011.,  968.,  997.,\n",
       "         997.]),\n",
       " array([1.47351043e-04, 1.00131318e-01, 2.00115285e-01, 3.00099252e-01,\n",
       "        4.00083220e-01, 5.00067187e-01, 6.00051154e-01, 7.00035121e-01,\n",
       "        8.00019088e-01, 9.00003055e-01, 9.99987022e-01]),\n",
       " <a list of 10 Patch objects>)"
      ]
     },
     "execution_count": 7,
     "metadata": {},
     "output_type": "execute_result"
    },
    {
     "data": {
      "image/png": "[encoded data removed]",
      "text/plain": [
       "<Figure size 432x288 with 1 Axes>"
      ]
     },
     "metadata": {
      "needs_background": "light"
     },
     "output_type": "display_data"
    }
   ],
   "source": [
    "plt.hist(x_uniform, 10, edgecolor='k')"
   ]
  },
  {
   "cell_type": "code",
   "execution_count": 8,
   "id": "induced-restoration",
   "metadata": {
    "colab": {
     "base_uri": "https://localhost:8080/",
     "height": 265
    },
    "executionInfo": {
     "elapsed": 272,
     "status": "ok",
     "timestamp": 1645432200437,
     "user": {
      "displayName": "Андрій Сергійович Рубель",
      "photoUrl": "https://lh3.googleusercontent.com/a/default-user=s64",
      "userId": "11227528985300011755"
     },
     "user_tz": -120
    },
    "id": "induced-restoration",
    "outputId": "c3f05c3c-511f-47e0-a11a-7bf3aa9d21db"
   },
   "outputs": [
    {
     "data": {
      "image/png": "[encoded data removed]",
      "text/plain": [
       "<Figure size 432x288 with 1 Axes>"
      ]
     },
     "metadata": {
      "needs_background": "light"
     },
     "output_type": "display_data"
    }
   ],
   "source": [
    "count, bins, ignored = plt.hist(x_uniform, 10, edgecolor='k', density=True)\n",
    "plt.plot(bins, np.ones_like(bins), linewidth=2, color='r')\n",
    "plt.show()"
   ]
  },
  {
   "cell_type": "markdown",
   "id": "graduate-madagascar",
   "metadata": {
    "id": "graduate-madagascar"
   },
   "source": [
    "## Моделирование равномерно распределенной случайной величины c использованием линейного конгруэнтного метода\n",
    "\n",
    "#### Необходимо задать следующие параметры:\n",
    "* $m$, $m>0$ - модуль;\n",
    "* $a$, $0\\leq a<m$ - множитель;\n",
    "* $c$, $0\\leq c<m$ - приращение;\n",
    "* $X_0$, $0\\leq X_0<m$ - начальное значение последовательности.\n",
    "\n",
    "#### Последовательность псевдослучайных чисел:\n",
    "$$X_{n+1} = (aX_n + c)\\ mod \\ m$$ \n",
    "$n \\geq 0$\n",
    "\n",
    "**Значение $m$ следует выбирать достаточно большим,поскольку период последовательности\n",
    "не превышает $m$.**\n",
    "\n",
    "#### Установите следующие значения параметров:\n",
    "* $m = 2^{31}-1$;\n",
    "* $a = 16807$;\n",
    "* $c=1$;\n",
    "* $seed = 12345$;\n",
    "* начальное значение $X_0 = (seed \\cdot a + 1) \\ mod \\ m$ (полученное значение затем разделить на $m$);\n",
    "* остальные значения последовательности $X_{n+1}$ также разделить на $m$ (таким образом, значения последовательности будут находится в диапазоне (0,1]);\n",
    "* привести диапазон сгенерированных значений в интервал $(a,b)$ в соответствии со своим вариантом."
   ]
  },
  {
   "cell_type": "code",
   "execution_count": null,
   "id": "arQAcjpjb8pc",
   "metadata": {
    "id": "arQAcjpjb8pc"
   },
   "outputs": [],
   "source": []
  },
  {
   "cell_type": "markdown",
   "id": "approved-supervision",
   "metadata": {
    "id": "approved-supervision"
   },
   "source": [
    "# Нормальное распределение"
   ]
  },
  {
   "cell_type": "code",
   "execution_count": null,
   "id": "direct-welding",
   "metadata": {
    "id": "direct-welding"
   },
   "outputs": [],
   "source": [
    "mu, sigma = 0, 0.1\n",
    "x_n = np.random.normal(mu, sigma, 1000)"
   ]
  },
  {
   "cell_type": "code",
   "execution_count": null,
   "id": "bizarre-cause",
   "metadata": {
    "id": "bizarre-cause",
    "outputId": "66405941-1181-4fc6-c9f3-c65b764482a6"
   },
   "outputs": [
    {
     "data": {
      "image/png": "[encoded data removed]",
      "text/plain": [
       "<Figure size 432x288 with 1 Axes>"
      ]
     },
     "metadata": {
      "needs_background": "light"
     },
     "output_type": "display_data"
    }
   ],
   "source": [
    "count, bins, ignored = plt.hist(x_n, 30, edgecolor='k', density = True)"
   ]
  },
  {
   "cell_type": "code",
   "execution_count": null,
   "id": "alike-penguin",
   "metadata": {
    "id": "alike-penguin",
    "outputId": "f5fd6dd0-0d93-4133-8348-679d76210861"
   },
   "outputs": [
    {
     "data": {
      "image/png": "[encoded data removed]",
      "text/plain": [
       "<Figure size 432x288 with 1 Axes>"
      ]
     },
     "metadata": {
      "needs_background": "light"
     },
     "output_type": "display_data"
    }
   ],
   "source": [
    "plt.plot(bins, 1/(sigma * np.sqrt(2*np.pi)) * np.exp(- (bins - mu)**2 / (2 * sigma**2)), linewidth=2, color='r')\n",
    "plt.show()"
   ]
  },
  {
   "cell_type": "code",
   "execution_count": null,
   "id": "respected-cattle",
   "metadata": {
    "id": "respected-cattle",
    "outputId": "4014c22c-0cb6-47db-e9c1-8b7116598cc1"
   },
   "outputs": [
    {
     "data": {
      "image/png": "[encoded data removed]",
      "text/plain": [
       "<Figure size 432x288 with 1 Axes>"
      ]
     },
     "metadata": {
      "needs_background": "light"
     },
     "output_type": "display_data"
    }
   ],
   "source": [
    "count, bins, ignored = plt.hist(x_n, 30, edgecolor='k', density=True)\n",
    "plt.plot(bins, 1/(sigma * np.sqrt(2*np.pi)) * np.exp(- (bins - mu)**2 / (2 * sigma**2)), linewidth=2, color='r')\n",
    "plt.show()"
   ]
  },
  {
   "cell_type": "markdown",
   "id": "direct-signal",
   "metadata": {
    "id": "direct-signal"
   },
   "source": [
    "## Моделирование нормального распределения с использованием преобразования Бокса-Мюллера\n",
    "\n",
    "* Получить две случайные величины $U_1$ и $U_2$, равномерно распределённые на интервале $(0 , 1]$.\n",
    "* Вычислить $z_0$ и $z_1$:\n",
    "$$z_0 = \\sqrt {-2\\ln U_1}cos(2\\pi U_2)$$     \n",
    "$$z_1 = \\sqrt {-2\\ln U_1}sin(2\\pi U_2)$$\n",
    "* Для получения заданного мат. ожидания и дисперсии:\n",
    "$$z = z_0\\sigma + \\mu$$"
   ]
  },
  {
   "cell_type": "markdown",
   "id": "mechanical-spouse",
   "metadata": {
    "id": "mechanical-spouse"
   },
   "source": [
    "# Распределение Рэлея"
   ]
  },
  {
   "cell_type": "code",
   "execution_count": null,
   "id": "surrounded-genius",
   "metadata": {
    "id": "surrounded-genius",
    "outputId": "56b7363e-2688-423e-d244-811e20c985cb"
   },
   "outputs": [
    {
     "data": {
      "image/png": "[encoded data removed]",
      "text/plain": [
       "<Figure size 432x288 with 1 Axes>"
      ]
     },
     "metadata": {
      "needs_background": "light"
     },
     "output_type": "display_data"
    }
   ],
   "source": [
    "x_r = np.random.rayleigh(3, 1000)\n",
    "count, bins, ignored = plt.hist(x_r, 20, edgecolor='k', density=True)"
   ]
  },
  {
   "cell_type": "markdown",
   "id": "reliable-bernard",
   "metadata": {
    "id": "reliable-bernard"
   },
   "source": [
    "## Моделирование распределения Рэлея\n",
    "\n",
    "* Получить две случайные нормально распределенные величины $x$ и $y$ с нулевым математическим ожиданием и одинаковыми дисперсиями ($\\sigma$ в соответствии со своим номером варианта).\n",
    "* Случайная величина с законом распределения Рэлея рассчитывается как: \n",
    "$$R = \\sqrt{x^2 + y^2}$$"
   ]
  },
  {
   "cell_type": "markdown",
   "id": "decreased-painting",
   "metadata": {
    "id": "decreased-painting"
   },
   "source": [
    "# Распределение Пуассона"
   ]
  },
  {
   "cell_type": "code",
   "execution_count": null,
   "id": "honey-france",
   "metadata": {
    "id": "honey-france",
    "outputId": "4c1ce936-dc59-47a9-d1b8-0de5ae09d9f6"
   },
   "outputs": [
    {
     "data": {
      "image/png": "[encoded data removed]",
      "text/plain": [
       "<Figure size 432x288 with 1 Axes>"
      ]
     },
     "metadata": {
      "needs_background": "light"
     },
     "output_type": "display_data"
    }
   ],
   "source": [
    "x_p = np.random.poisson(2, 1000)\n",
    "count, bins, ignored = plt.hist(x_p, 20, edgecolor='k', density=True)"
   ]
  },
  {
   "cell_type": "markdown",
   "id": "noble-timeline",
   "metadata": {
    "id": "noble-timeline"
   },
   "source": [
    "# Задание\n",
    "\n",
    "1. Для каждого распределения с варьируемым размером выборки рассчитать статистические моменты, а именно выборочное среднее, выборочную дисперсию и выборочные коэффициенты асимметрии и эксцесса.\n",
    "2. Построить гистограмму для полученной выборки и совместить её с графиком теоретической плотности распределения вероятностей.\n",
    "3. Выполнить моделирование непрерывного равномерного распределения с помощью линейного конгруэнтного метода.\n",
    "4. Выполнить моделирование нормального распределения с помощью преобразования Бокса-Мюллера.\n",
    "5. Выполнить моделирование распределения Рэлея.\n"
   ]
  },
  {
   "cell_type": "markdown",
   "id": "dressed-accountability",
   "metadata": {
    "id": "dressed-accountability"
   },
   "source": [
    "# Темы для подготовки к защите практического задания №3\n",
    "\n",
    "1. Случайные величины и процессы. Детерминированные и случайные процессы. Непрерывные и дискретные случайные величины.\n",
    "2.\tФункция распределения случайной величины. Свойства функций распределения. Плотность распределения вероятности и её свойства.\n",
    "3.\tНормальное (гауссово) распределение. Распределение Рэлея. Равномерное распределение. Распределение Пуассона.\n",
    "4.\tЛинейный конгруэнтный метод моделирования случайных величин. Моделирование нормального распределения (центральная предельная теорема, преобразование Бокса-Мюллера). Моделирование распределения Рэлея.\n",
    "5.\tЧисловые характеристики случайных величин. Моменты случайной величины. Математическое ожидание. Свойства математического ожидания. Центральные моменты случайной величины. Дисперсия случайной величины и её свойства. Коэффициент асимметрии. Коэффициент эксцесса."
   ]
  },
  {
   "cell_type": "code",
   "execution_count": 1,
   "id": "surprised-helena",
   "metadata": {
    "id": "surprised-helena"
   },
   "outputs": [
    {
     "name": "stdout",
     "output_type": "stream",
     "text": [
      "Среднее значение :  6.501074229357244\n",
      "Дисперсия :  0.744062464948553\n",
      "Коэффициент асимметрии :  -0.0038806381367045718\n",
      "Коэффициент эксцесса :  -1.2019133490453837\n"
     ]
    },
    {
     "data": {
      "image/png": "[encoded data removed]",
      "text/plain": [
       "<Figure size 432x288 with 1 Axes>"
      ]
     },
     "metadata": {
      "needs_background": "light"
     },
     "output_type": "display_data"
    },
    {
     "name": "stdout",
     "output_type": "stream",
     "text": [
      "Среднее значение :  5.666666666666667\n",
      "Дисперсия :  2.222222222222222\n",
      "Коэффициент асимметрии :  0.2795084971874732\n",
      "Коэффициент эксцесса :  -1.365\n",
      "Среднее значение :  4.7716581946649255\n",
      "Дисперсия :  36.62612122421105\n",
      "Коэффициент асимметрии :  -0.05028512195672007\n",
      "Коэффициент эксцесса :  0.02417581980158845\n"
     ]
    },
    {
     "data": {
      "image/png": "[encoded data removed]",
      "text/plain": [
       "<Figure size 432x288 with 1 Axes>"
      ]
     },
     "metadata": {
      "needs_background": "light"
     },
     "output_type": "display_data"
    },
    {
     "name": "stdout",
     "output_type": "stream",
     "text": [
      "0.2983458193881974\n",
      "0.14101231431474703\n",
      "0.9837525017196783\n",
      "1.2046721589158271\n",
      "41.32025191056387\n",
      "Среднее значение :  10.891535427008492\n",
      "Дисперсия :  10.432806158611612\n",
      "Коэффициент асимметрии :  0.7215231434653013\n",
      "Коэффициент эксцесса :  -0.7403190181670722\n",
      "0.9508944415937812\n"
     ]
    },
    {
     "data": {
      "image/png": "[encoded data removed]",
      "text/plain": [
       "<Figure size 432x288 with 1 Axes>"
      ]
     },
     "metadata": {
      "needs_background": "light"
     },
     "output_type": "display_data"
    }
   ],
   "source": [
    "import numpy as np\n",
    "import matplotlib.pyplot as plt\n",
    "from scipy.stats import kurtosis\n",
    "from scipy.stats import skew\n",
    "%matplotlib inline\n",
    "\n",
    "a, b = 5, 8\n",
    "x_uniform = np.random.uniform(a, b, 10000)\n",
    "\n",
    "print(\"Среднее значение : \", np.mean(x_uniform))\n",
    "\n",
    "print(\"Дисперсия : \", np.var(x_uniform))\n",
    "\n",
    "print(\"Коэффициент асимметрии : \", skew(x_uniform)) \n",
    "\n",
    "print(\"Коэффициент эксцесса : \", kurtosis(x_uniform)) \n",
    "\n",
    "plt.hist(x_uniform, 10, edgecolor='k')\n",
    "\n",
    "count, bins, ignored = plt.hist(x_uniform, 10, edgecolor='k', density=True)\n",
    "plt.plot(bins, np.ones_like(bins), linewidth=2, color='r')\n",
    "plt.show()\n",
    "\n",
    "\n",
    " \n",
    "import matplotlib.pyplot as plt \n",
    "from scipy.stats import kurtosis \n",
    "from scipy.stats import skew \n",
    "%matplotlib inline \n",
    " \n",
    "\n",
    "x_p = np.random.poisson(6, 6)\n",
    " \n",
    "print(\"Среднее значение : \", np.mean(x_p)) \n",
    " \n",
    "print(\"Дисперсия : \", np.var(x_p)) \n",
    " \n",
    "print(\"Коэффициент асимметрии : \", skew(x_p))  \n",
    " \n",
    "print(\"Коэффициент эксцесса : \", kurtosis(x_p))  \n",
    " \n",
    "count, bins, ignored = plt.hist(x_p, 20, edgecolor='k', density=True)\n",
    "\n",
    "\n",
    "\n",
    "import random \n",
    "import matplotlib.pyplot as plt\n",
    "from scipy.stats import kurtosis\n",
    "from scipy.stats import skew\n",
    "%matplotlib inline\n",
    "\n",
    "mu, sigma = 5, 6\n",
    "x_n = np.random.normal(mu, sigma, 1000)\n",
    "\n",
    "print(\"Среднее значение : \", np.mean(x_n))\n",
    "\n",
    "print(\"Дисперсия : \", np.var(x_n))\n",
    "\n",
    "print(\"Коэффициент асимметрии : \", skew(x_n)) \n",
    "\n",
    "print(\"Коэффициент эксцесса : \", kurtosis(x_n)) \n",
    "\n",
    "plt.hist(x_n, 10, edgecolor='k')\n",
    "\n",
    "count, bins, ignored = plt.hist(x_n, 30, edgecolor='k', density = True)\n",
    "plt.plot(bins, 1/(sigma * np.sqrt(2*np.pi)) * np.exp(- (bins - mu)**2 / (2 * sigma**2)), linewidth=2, color='r')\n",
    "plt.show()\n",
    "\n",
    "u1 = random.random()\n",
    "print(u1)\n",
    "\n",
    "u2 = random.random()\n",
    "print(u2)\n",
    "\n",
    "Z0 = ((-2*np.log(u1))**0.5)*np.cos(2*np.pi*u2)\n",
    "\n",
    "Z1 = ((-2*np.log(u1))**0.5)*np.sin(2*np.pi*u2)\n",
    "\n",
    "print(Z0) \n",
    "print(Z1)\n",
    "\n",
    "Z = Z0* np.mean(x_n) + np.var(x_n) \n",
    "print(Z)\n",
    "\n",
    "\n",
    "import random\n",
    "import matplotlib.pyplot as plt \n",
    "from scipy.stats import kurtosis \n",
    "from scipy.stats import skew \n",
    "%matplotlib inline \n",
    " \n",
    "\n",
    "x_r = np.random.rayleigh(6, 6) \n",
    " \n",
    "print(\"Среднее значение : \", np.mean(x_r)) \n",
    " \n",
    "print(\"Дисперсия : \", np.var(x_r)) \n",
    " \n",
    "print(\"Коэффициент асимметрии : \", skew(x_r))  \n",
    " \n",
    "print(\"Коэффициент эксцесса : \", kurtosis(x_r))  \n",
    " \n",
    "count, bins, ignored = plt.hist(x_r, 20, edgecolor='k', density=True)\n",
    "\n",
    "U1 = random.random()\n",
    "U2 = random.random()\n",
    "\n",
    "R = (U1**2 + U2**2)**0.5\n",
    "print(R)\n"
   ]
  },
  {
   "cell_type": "code",
   "execution_count": null,
   "id": "eb869aa6",
   "metadata": {},
   "outputs": [],
   "source": [
    "[Forwarded from Татьяна Мариевна]\n",
    "import random  \n",
    "import numpy as np   \n",
    "import matplotlib.pyplot as plt   \n",
    "from scipy.stats import kurtosis   \n",
    "from scipy.stats import skew   \n",
    "%matplotlib inline   \n",
    "   \n",
    "a, b = 5, 9   \n",
    "x_uniform = np.random.uniform(a, b, 10000)   \n",
    "   \n",
    "print(\"Среднее значение : \", np.mean(x_uniform))   \n",
    "   \n",
    "print(\"Дисперсия : \", np.var(x_uniform))   \n",
    "   \n",
    "print(\"Коэффициент асимметрии : \", skew(x_uniform))    \n",
    "   \n",
    "print(\"Коэффициент эксцесса : \", kurtosis(x_uniform))    \n",
    "   \n",
    "plt.hist(x_uniform, 10, edgecolor='k')   \n",
    "   \n",
    "count, bins, ignored = plt.hist(x_uniform, 10, edgecolor='k', density=True)   \n",
    "plt.plot(bins, np.ones_like(bins), linewidth=2, color='r')   \n",
    "plt.show()  \n",
    "  \n",
    "  \n",
    "x_p = np.random.poisson(7, 7)   \n",
    "   \n",
    "print(\"Среднее значение : \", np.mean(x_p))   \n",
    "   \n",
    "print(\"Дисперсия : \", np.var(x_p))   \n",
    "   \n",
    "print(\"Коэффициент асимметрии : \", skew(x_p))    \n",
    "   \n",
    "print(\"Коэффициент эксцесса : \", kurtosis(x_p))    \n",
    "   \n",
    "count, bins, ignored = plt.hist(x_p, 20, edgecolor='k', density=True)  \n",
    "  \n",
    "  \n",
    "  \n",
    "x_r = np.random.rayleigh(3, 1000)   \n",
    "   \n",
    "print(\"Среднее значение : \", np.mean(x_r))   \n",
    "   \n",
    "print(\"Дисперсия : \", np.var(x_r))   \n",
    "   \n",
    "print(\"Коэффициент асимметрии : \", skew(x_r))    \n",
    "   \n",
    "print(\"Коэффициент эксцесса : \", kurtosis(x_r))    \n",
    "   \n",
    "count, bins, ignored = plt.hist(x_r, 20, edgecolor='k', density=True) \n",
    " \n",
    "A1 = np.random.normal(0, 7, 1000)  \n",
    "B1 = np.random.normal(0, 7, 1000)   \n",
    " \n",
    " \n",
    " \n",
    "R = np.sqrt(np.square(A1)+np.square(B1)) \n",
    "print(\"Моделирование распределения Рэлея\") \n",
    "print(R)  \n",
    "  \n",
    "  \n",
    "u1 = random.random()  \n",
    "  \n",
    "  \n",
    "u2 = random.random()  \n",
    "  \n",
    "  \n",
    "  \n",
    "R = (u1**2 + u2**2)**0.5  \n",
    "print(R)  \n",
    "  \n",
    "mu, sigma = 6, 7    \n",
    "x_n = np.random.normal(6, 7, 1000)    \n",
    "    \n",
    "print(\"Среднее значение : \", np.mean(x_n))    \n",
    "    \n",
    "print(\"Дисперсия : \", np.var(x_n))    \n",
    "    \n",
    "print(\"Коэффициент асимметрии : \", skew(x_n))     \n",
    "    \n",
    "print(\"Коэффициент эксцесса : \", kurtosis(x_n))     \n",
    "    \n",
    "    \n",
    "count, bins, ignored = plt.hist(x_n, 30, edgecolor='k', density = True)    \n",
    "plt.plot(bins, 1/(sigma * np.sqrt(2*np.pi)) * np.exp(- (bins - mu)**2 / (2 * sigma**2)), linewidth=2, color='r')    \n",
    "plt.show()   \n",
    "   \n",
    "   \n",
    "M=(2**31)-1 \n",
    "A = 16807 \n",
    "C = 1 \n",
    "seed = 12345 \n",
    "X0=np.mod((A*seed+1),M) \n",
    "X=np.mod((A*X0+C),M) \n",
    " \n",
    "print(\"Моделирование равномерно распределенной случайной величины c использованием линейного конгруэнтного метода\") \n",
    "print(X) \n",
    " \n",
    " \n",
    "U1 = random.random()   \n",
    " \n",
    "U2 = random.random()   \n",
    " \n",
    "   \n",
    "   \n",
    "Z0 = ((-2*np.log(U1))**0.5)*np.cos(2*np.pi*U2)   \n",
    "Z1 = ((-2*np.log(U1))**0.5)*np.sin(2*np.pi*U2)   \n",
    "   \n",
    " \n",
    "Z = Z0*np.mean(x_n) + np.var(x_n)   \n",
    "print(\"Моделирование нормального распределения с использованием преобразования Бокса-Мюллера\") \n",
    "print(Z)"
   ]
  }
 ],
 "metadata": {
  "colab": {
   "name": "Practice3_prob_distrib_model.ipynb",
   "provenance": []
  },
  "kernelspec": {
   "display_name": "Python 3 (ipykernel)",
   "language": "python",
   "name": "python3"
  },
  "language_info": {
   "codemirror_mode": {
    "name": "ipython",
    "version": 3
   },
   "file_extension": ".py",
   "mimetype": "text/x-python",
   "name": "python",
   "nbconvert_exporter": "python",
   "pygments_lexer": "ipython3",
   "version": "3.9.12"
  }
 },
 "nbformat": 4,
 "nbformat_minor": 5
}
